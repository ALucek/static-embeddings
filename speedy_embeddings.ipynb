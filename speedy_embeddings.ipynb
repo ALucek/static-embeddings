{
 "cells": [
  {
   "cell_type": "markdown",
   "id": "67ca197c-6fb4-43ce-87dc-89957ba6c91f",
   "metadata": {},
   "source": [
    "# 400x Faster - Static & Distilled Embedding Models\n",
    "\n",
    "<img src=\"./media/embedding_model.png\" width=600>\n",
    "\n",
    "[Img: Weaviate](https://weaviate.io/blog/how-to-choose-an-embedding-model)\n",
    "\n",
    "Embedding models are used for a multitude of AI related applications, playing major parts in semantic textual similarity, semantic search, paraphrase mining, text classification, clustering, and more. But one major problem is that the best embedding models, while lightweight in comparison to things like LLMs, can still be many millions of parameters. For example, popular models like [all-MiniLM-L6-v2](https://huggingface.co/sentence-transformers/all-MiniLM-L6-v2) and [bge-large-en-v1.5](https://huggingface.co/BAAI/bge-large-en-v1.5) are 22.7M & 335M parameters respectively.\n",
    "\n",
    "Running these models then requires atleast some decent compute, and is commonly accelerated by GPUs. While small, scaling these workloads can get intensive and pricey. In this notebook we'll cover a few techniques (old and new!) that are used to squeeze efficiency out of embedding models, specifically:\n",
    "\n",
    "**Static Embedding Models** and **Embedding Model Distillation**"
   ]
  },
  {
   "cell_type": "markdown",
   "id": "31ea21b5-e08c-4a71-814d-b66ab00c026a",
   "metadata": {},
   "source": [
    "## Static Embeddings\n",
    "\n",
    "Static embeddings are no new concept, pre-dating the more popular transformer/attention based embedding models. Static embedding models are trained using techniques like:\n",
    "\n",
    "<img src=\"./media/w2v_training.png\" width=600>\n",
    "\n",
    "[Word2Vec (CBOW, Skip-gram) In Depth](https://medium.com/@fraidoonomarzai99/word2vec-cbow-skip-gram-in-depth-88d9cc340a50)\n",
    "\n",
    "**Skip-gram**: Predict surrounding words in a context window given a center word. (i.e. Word2Vec)\n",
    "\n",
    "- Sentence: The quick brown fox jumps over the lazy dog\n",
    "- Context Window: 3\n",
    "\n",
    "| Center Word | Context Words (window = 3)                      |\n",
    "| ----------- | ----------------------------------------------- |\n",
    "| \"the\"       | \"quick\", \"brown\", \"fox\"                         |\n",
    "| \"quick\"     | \"the\", \"brown\", \"fox\", \"jumps\"                  |\n",
    "| \"brown\"     | \"the\", \"quick\", \"fox\", \"jumps\", \"over\"          |\n",
    "| \"fox\"       | \"the\", \"quick\", \"brown\", \"jumps\", \"over\", \"the\" |\n",
    "| \"jumps\"     | \"quick\", \"brown\", \"fox\", \"over\", \"the\", \"lazy\"  |\n",
    "| \"over\"      | \"brown\", \"fox\", \"jumps\", \"the\", \"lazy\", \"dog\"   |\n",
    "| \"the\"       | \"fox\", \"jumps\", \"over\", \"lazy\", \"dog\"           |\n",
    "| \"lazy\"      | \"jumps\", \"over\", \"the\", \"dog\"                   |\n",
    "| \"dog\"       | \"over\", \"the\", \"lazy\"                           |\n",
    "\n",
    "**CBOW**: Predict the center word given surrounding words. (i.e. Word2Vec)\n",
    "\n",
    "| Target Word | Context Words                                      |\n",
    "| ----------- | -------------------------------------------------- |\n",
    "| \"the\" (0)   | \\[\"quick\", \"brown\", \"fox\"]                         |\n",
    "| \"quick\"     | \\[\"the\", \"brown\", \"fox\", \"jumps\"]                  |\n",
    "| \"brown\"     | \\[\"the\", \"quick\", \"fox\", \"jumps\", \"over\"]          |\n",
    "| \"fox\"       | \\[\"the\", \"quick\", \"brown\", \"jumps\", \"over\", \"the\"] |\n",
    "| \"jumps\"     | \\[\"quick\", \"brown\", \"fox\", \"over\", \"the\", \"lazy\"]  |\n",
    "| \"over\"      | \\[\"brown\", \"fox\", \"jumps\", \"the\", \"lazy\", \"dog\"]   |\n",
    "| \"the\" (6)   | \\[\"fox\", \"jumps\", \"over\", \"lazy\", \"dog\"]           |\n",
    "| \"lazy\"      | \\[\"jumps\", \"over\", \"the\", \"dog\"]                   |\n",
    "| \"dog\"       | \\[\"over\", \"the\", \"lazy\"]                           |\n",
    "\n",
    "**Matrix factorization**: Decompose word co-occurrence matrices. (i.e. GloVe)\n",
    "\n",
    "|       | the | quick | brown | fox | jumps | over | lazy | dog |\n",
    "| ----- | --- | ----- | ----- | --- | ----- | ---- | ---- | --- |\n",
    "| the   | 0   | 2     | 2     | 2   | 2     | 2    | 1    | 1   |\n",
    "| quick | 2   | 0     | 2     | 2   | 1     | 0    | 0    | 0   |\n",
    "| brown | 2   | 2     | 0     | 2   | 2     | 1    | 0    | 0   |\n",
    "| fox   | 2   | 2     | 2     | 0   | 2     | 2    | 1    | 0   |\n",
    "| jumps | 2   | 1     | 2     | 2   | 0     | 2    | 2    | 1   |\n",
    "| over  | 2   | 0     | 1     | 2   | 2     | 0    | 2    | 2   |\n",
    "| lazy  | 1   | 0     | 0     | 1   | 2     | 2    | 0    | 2   |\n",
    "| dog   | 1   | 0     | 0     | 0   | 1     | 2    | 2    | 0   |\n",
    "\n",
    "Through running models across a vast corpus of text, researchers produced models that could efficiently convert words into semantically rich representations (i.e. an array of numbers that represents that word). Each cell in this matrix reflects how often a pair of words appeared within a given context window across the corpus. This all tended to follow the goal of capturing the distributional semantics of language based on the principle that words appearing in similar contexts tend to have similar meanings.\n",
    "\n",
    "As quick additional context, before any of these training techniques can be applied, the input text corpus must undergo preprocessing. The first step in this pipeline is tokenization, which is the process of breaking down the raw text into a sequence of smaller units (or tokens). For traditional static embedding models like Word2Vec and GloVe, tokenization often involves standardizing the text—such as converting all characters to lowercase and removing punctuation—and then splitting the text by spaces. This typically results in individual words being treated as tokens.\n",
    "\n",
    "<img src=\"./media/token.png\" width=600>\n",
    "\n",
    "[Tokenization — A complete guide](https://medium.com/@utkarsh.kant/tokenization-a-complete-guide-3f2dd56c0682)\n",
    "\n",
    "Once the entire corpus has been tokenized, the set of unique tokens generated forms the basis for the model's **vocabulary**. Creating this fixed vocabulary generally involves:\n",
    "\n",
    "1. Scanning the tokenized corpus to identify all unique word tokens.\n",
    "2. Applying frequency thresholds to exclude very rare words, which might be noise or offer little semantic value.\n",
    "3. Often, setting a maximum vocabulary size (e.g., the 50,000 to 1 million most frequent words) to keep the model manageable.\n",
    "4. Incorporating special tokens, such as a token to represent out-of-vocabulary (OOV) words—words encountered later that were not part of the initial vocabulary.\n",
    "\n",
    "This constructed vocabulary is then fundamental to how different models learn. Word2Vec-type models (CBOW and Skip-gram) use this vocabulary in their training objectives, examining probability distributions over all words in the vocabulary to maximize the accuracy of their predictions. In contrast, matrix factorization approaches like GloVe leverage the vocabulary to build a co-occurrence matrix. GloVe then directly decomposes these word co-occurrence statistics (derived from words in the vocabulary) into lower-dimensional representations. This all tended to follow the goal of capturing the distributional semantics of language based on the principle that words appearing in similar contexts tend to have similar meanings."
   ]
  },
  {
   "cell_type": "markdown",
   "id": "f31a1e0e-4507-4d60-854f-3bc26086daf5",
   "metadata": {},
   "source": [
    "<img src=\"./media/embeddings.png\" width=600>\n",
    "\n",
    "[What are Vector Embeddings?](https://www.couchbase.com/blog/what-are-vector-embeddings/)\n",
    "\n",
    "This style of static embedding model can thus be thought of as almost a lookup table, matching the individual words (or tokens) in a document to their respective numerical representaiton, learned via the aforementioned training on text content. Embeddings for phrases and documents were then calculated as an average of the individual word/token level embeddings generally through techniques like:\n",
    "\n",
    "1. **Mean Pooling (Simple averaging)**: Taking the arithmetic mean of all word vectors in the document, giving equal weight to each word.\n",
    "   ```\n",
    "   document_embedding = (word_1_vector + word_2_vector + ... + word_n_vector) / n\n",
    "   ```\n",
    "\n",
    "2. **TF-IDF weighted averaging**: Weighting each word vector by its TF-IDF (term frequency - inverse document frequency) score to reduce the influence of common words and emphasize more distinctive terms.\n",
    "   ```\n",
    "   document_embedding = Σ(word_i_vector * tfidf_i) / Σ(tfidf_i)\n",
    "   ```\n",
    "\n",
    "3. **SIF (Smooth Inverse Frequency)**: A more sophisticated weighting scheme that combines word frequency with a parameter to smooth the weights, then removes the first principal component to eliminate common discourse elements."
   ]
  },
  {
   "cell_type": "markdown",
   "id": "e90a210e-7336-4c6a-9ecd-b548a37a0168",
   "metadata": {},
   "source": [
    "---\n",
    "## Static Embeddings in Action\n",
    "\n",
    "One of the seminal works that pioneered vector embeddings in NLP was [Word2Vec (2013)](https://arxiv.org/pdf/1301.3781). Let's show some examples of this in action:"
   ]
  },
  {
   "cell_type": "code",
   "execution_count": 16,
   "id": "4fb8842b-9e98-4cb1-8a19-4e376769f3f5",
   "metadata": {},
   "outputs": [],
   "source": [
    "from staticvectors import StaticVectors\n",
    "from sklearn.metrics.pairwise import cosine_similarity\n",
    "import numpy as np\n",
    "\n",
    "# Helper: print first few values of a vector\n",
    "def print_vector(name, vec, num=10):\n",
    "    snippet = \", \".join(f\"{v:.4f}\" for v in vec[:num])\n",
    "    print(f\"{name}: [{snippet}, ...]\")\n",
    "\n",
    "# Load static embedding model\n",
    "w2v = StaticVectors(\"neuml/word2vec\")"
   ]
  },
  {
   "cell_type": "markdown",
   "id": "6d84f4fd-6959-4033-ad14-c6288a9cbf34",
   "metadata": {},
   "source": [
    "### Get Vector for \"King\""
   ]
  },
  {
   "cell_type": "code",
   "execution_count": 17,
   "id": "97f73c2c-73d7-4c43-9a23-ae58d066c388",
   "metadata": {},
   "outputs": [
    {
     "name": "stdout",
     "output_type": "stream",
     "text": [
      "king: [0.0434, 0.0103, 0.0030, 0.0481, -0.0088, -0.0124, 0.0385, -0.0683, 0.0177, 0.1252, ...]\n"
     ]
    }
   ],
   "source": [
    "# Get vectors\n",
    "king_vec = w2v.embeddings([\"king\"])[0]\n",
    "print_vector(\"king\", king_vec)"
   ]
  },
  {
   "cell_type": "markdown",
   "id": "37c62a0f-fd4c-4c19-9a70-670037f2dae5",
   "metadata": {},
   "source": [
    "### Get Vector for \"Man\""
   ]
  },
  {
   "cell_type": "code",
   "execution_count": 18,
   "id": "6cd5607c-88fa-4098-997e-7f707d64c9d5",
   "metadata": {},
   "outputs": [
    {
     "name": "stdout",
     "output_type": "stream",
     "text": [
      "man: [0.1412, 0.0566, 0.0150, -0.0359, 0.0389, -0.0179, -0.0858, 0.0030, 0.0621, 0.0008, ...]\n"
     ]
    }
   ],
   "source": [
    "man_vec = w2v.embeddings([\"man\"])[0]\n",
    "print_vector(\"man\", man_vec)"
   ]
  },
  {
   "cell_type": "markdown",
   "id": "a44bf731-5528-4414-828a-9c5ce51f5504",
   "metadata": {},
   "source": [
    "### Get Vector for \"Woman\""
   ]
  },
  {
   "cell_type": "code",
   "execution_count": 20,
   "id": "bac7a1c9-b515-4ee5-93e6-a45e1cdd7292",
   "metadata": {},
   "outputs": [
    {
     "name": "stdout",
     "output_type": "stream",
     "text": [
      "woman: [0.0916, -0.0291, -0.0388, -0.0405, 0.0445, -0.0405, -0.0430, 0.0097, 0.0421, 0.0183, ...]\n"
     ]
    }
   ],
   "source": [
    "woman_vec = w2v.embeddings([\"woman\"])[0]\n",
    "print_vector(\"woman\", woman_vec)"
   ]
  },
  {
   "cell_type": "markdown",
   "id": "612baca2-2499-496e-9fde-12d594739406",
   "metadata": {},
   "source": [
    "### Get Vector for \"Queen\""
   ]
  },
  {
   "cell_type": "code",
   "execution_count": 22,
   "id": "4b46cd0d-0947-4800-97e6-ff8f62065657",
   "metadata": {},
   "outputs": [
    {
     "name": "stdout",
     "output_type": "stream",
     "text": [
      "queen: [0.0017, -0.0474, -0.0229, 0.0408, 0.0435, -0.0293, -0.0235, -0.0716, -0.0651, 0.0184, ...]\n"
     ]
    }
   ],
   "source": [
    "queen_vec = w2v.embeddings([\"queen\"])[0]\n",
    "print_vector(\"queen\", queen_vec)"
   ]
  },
  {
   "cell_type": "markdown",
   "id": "01ff37ba-e6a8-4819-9060-660b4b30e4f0",
   "metadata": {},
   "source": [
    "### Observe Similarities\n",
    "\n",
    "Now that our words are represented as high dimensional arrays, we can look at the distance or angle between them to see how \"semantically\" similar the ideas are. The most popular way of calculating this is via cosine similarity\n",
    "\n",
    "<img src=\"./media/cos_similarity.png\" width=600>\n",
    "\n",
    "[Machine Learning Fundamentals: Cosine Similarity and Cosine Distance](https://medium.com/geekculture/cosine-similarity-and-cosine-distance-48eed889a5c4)"
   ]
  },
  {
   "cell_type": "code",
   "execution_count": 27,
   "id": "0aa204a9-a9db-4663-94fb-bf477b6e63da",
   "metadata": {},
   "outputs": [
    {
     "name": "stdout",
     "output_type": "stream",
     "text": [
      "\n",
      "Similarity between queen and king: 0.6511\n",
      "\n",
      "Similarity between man and woman: 0.7664\n",
      "\n",
      "Similarity between king and man: 0.2294\n",
      "\n",
      "Similarity between queen and woman: 0.3162\n",
      "\n",
      "Similarity between king and woman: 0.1285\n",
      "\n",
      "Similarity between queen and man: 0.1666\n"
     ]
    }
   ],
   "source": [
    "similarity = cosine_similarity([queen_vec], [king_vec])[0][0]\n",
    "print(f\"\\nSimilarity between queen and king: {similarity:.4f}\")\n",
    "\n",
    "similarity = cosine_similarity([man_vec], [woman_vec])[0][0]\n",
    "print(f\"\\nSimilarity between man and woman: {similarity:.4f}\")\n",
    "\n",
    "similarity = cosine_similarity([king_vec], [man_vec])[0][0]\n",
    "print(f\"\\nSimilarity between king and man: {similarity:.4f}\")\n",
    "\n",
    "similarity = cosine_similarity([queen_vec], [woman_vec])[0][0]\n",
    "print(f\"\\nSimilarity between queen and woman: {similarity:.4f}\")\n",
    "\n",
    "similarity = cosine_similarity([king_vec], [woman_vec])[0][0]\n",
    "print(f\"\\nSimilarity between king and woman: {similarity:.4f}\")\n",
    "\n",
    "similarity = cosine_similarity([queen_vec], [man_vec])[0][0]\n",
    "print(f\"\\nSimilarity between queen and man: {similarity:.4f}\")"
   ]
  },
  {
   "cell_type": "markdown",
   "id": "b350503e-295a-452e-8d78-4dc92f9c38c6",
   "metadata": {},
   "source": [
    "One of the most popular examples of embedding based math is visually showing the \"concepts\" being added and subtracted out, and how they affect the final representation. Let's visually examine how:\n",
    "\n",
    "`vector(\"king\") - vector(\"man\") + vector(\"woman\") ≈ vector(\"queen\")`"
   ]
  },
  {
   "cell_type": "code",
   "execution_count": 24,
   "id": "7b195e1f-39b3-4717-ab8a-5a6e59c49d44",
   "metadata": {},
   "outputs": [
    {
     "data": {
      "text/html": [
       "        <script type=\"text/javascript\">\n",
       "        window.PlotlyConfig = {MathJaxConfig: 'local'};\n",
       "        if (window.MathJax && window.MathJax.Hub && window.MathJax.Hub.Config) {window.MathJax.Hub.Config({SVG: {font: \"STIX-Web\"}});}\n",
       "        </script>\n",
       "        <script type=\"module\">import \"https://cdn.plot.ly/plotly-3.0.1.min\"</script>\n",
       "        "
      ]
     },
     "metadata": {},
     "output_type": "display_data"
    },
    {
     "data": {
      "application/vnd.plotly.v1+json": {
       "config": {
        "plotlyServerURL": "https://plot.ly"
       },
       "data": [
        {
         "hoverinfo": "text",
         "marker": {
          "color": [
           "blue",
           "red",
           "blue",
           "red",
           "blue",
           "red",
           "blue",
           "red",
           "blue",
           "red",
           "blue",
           "red",
           "purple",
           "green"
          ],
          "opacity": 0.8,
          "size": 8
         },
         "mode": "markers+text",
         "name": "Words",
         "text": [
          "king",
          "queen",
          "man",
          "woman",
          "prince",
          "princess",
          "boy",
          "girl",
          "father",
          "mother",
          "son",
          "daughter",
          "king-man",
          "king-man+woman"
         ],
         "textposition": "top center",
         "type": "scatter3d",
         "x": {
          "bdata": "IlYWv2x64r448Q0/LWv1Pvprl75sq2u+CNjzPgcR3D4k6rQ+GIjJPvY0zD6xWr0+Kmuev8ORKb8=",
          "dtype": "f4"
         },
         "y": {
          "bdata": "o9bVPaaciD4i09c+b9PPPt6TTz7ESIg+7ansPVOOfT42bgS/2IKuvkmABb+a2cW+vfm0vsnXtT0=",
          "dtype": "f4"
         },
         "z": {
          "bdata": "QjmovtOxYT4J4Me+JJxTPoichr5JUj0+RJFWvhAtSj5P90y+/IOHPiYvGL5vT48+w3Sovc50iT4=",
          "dtype": "f4"
         }
        },
        {
         "line": {
          "color": "gray",
          "dash": "dash",
          "width": 4
         },
         "mode": "lines",
         "name": "king - man",
         "type": "scatter3d",
         "x": [
          -0.5872517824172974,
          -1.2376453876495361
         ],
         "y": [
          0.10441329330205917,
          -0.3534678518772125
         ],
         "z": [
          -0.32856184244155884,
          -0.08225395530462265
         ]
        },
        {
         "line": {
          "color": "gray",
          "dash": "dash",
          "width": 4
         },
         "mode": "lines",
         "name": "+ woman",
         "type": "scatter3d",
         "x": [
          -1.2376453876495361,
          -0.6623803973197937
         ],
         "y": [
          -0.3534678518772125,
          0.08879048377275467
         ],
         "z": [
          -0.08225395530462265,
          0.26846927404403687
         ]
        },
        {
         "line": {
          "color": "green",
          "width": 4
         },
         "mode": "lines",
         "name": "≈ queen",
         "type": "scatter3d",
         "x": [
          -0.6623803973197937,
          -0.44234025478363037
         ],
         "y": [
          0.08879048377275467,
          0.26682013273239136
         ],
         "z": [
          0.26846927404403687,
          0.22040490806102753
         ]
        }
       ],
       "layout": {
        "height": 800,
        "hovermode": "closest",
        "legend": {
         "bgcolor": "rgba(255, 255, 255, 0.5)",
         "font": {
          "size": 12
         },
         "traceorder": "normal",
         "x": 0.9,
         "y": 0.9
        },
        "margin": {
         "b": 0,
         "l": 0,
         "r": 0,
         "t": 40
        },
        "scene": {
         "aspectmode": "cube",
         "camera": {
          "center": {
           "x": 0,
           "y": 0,
           "z": 0
          },
          "eye": {
           "x": 1.5,
           "y": 1.5,
           "z": 1.5
          },
          "up": {
           "x": 0,
           "y": 0,
           "z": 1
          }
         }
        },
        "template": {
         "data": {
          "bar": [
           {
            "error_x": {
             "color": "#2a3f5f"
            },
            "error_y": {
             "color": "#2a3f5f"
            },
            "marker": {
             "line": {
              "color": "#E5ECF6",
              "width": 0.5
             },
             "pattern": {
              "fillmode": "overlay",
              "size": 10,
              "solidity": 0.2
             }
            },
            "type": "bar"
           }
          ],
          "barpolar": [
           {
            "marker": {
             "line": {
              "color": "#E5ECF6",
              "width": 0.5
             },
             "pattern": {
              "fillmode": "overlay",
              "size": 10,
              "solidity": 0.2
             }
            },
            "type": "barpolar"
           }
          ],
          "carpet": [
           {
            "aaxis": {
             "endlinecolor": "#2a3f5f",
             "gridcolor": "white",
             "linecolor": "white",
             "minorgridcolor": "white",
             "startlinecolor": "#2a3f5f"
            },
            "baxis": {
             "endlinecolor": "#2a3f5f",
             "gridcolor": "white",
             "linecolor": "white",
             "minorgridcolor": "white",
             "startlinecolor": "#2a3f5f"
            },
            "type": "carpet"
           }
          ],
          "choropleth": [
           {
            "colorbar": {
             "outlinewidth": 0,
             "ticks": ""
            },
            "type": "choropleth"
           }
          ],
          "contour": [
           {
            "colorbar": {
             "outlinewidth": 0,
             "ticks": ""
            },
            "colorscale": [
             [
              0,
              "#0d0887"
             ],
             [
              0.1111111111111111,
              "#46039f"
             ],
             [
              0.2222222222222222,
              "#7201a8"
             ],
             [
              0.3333333333333333,
              "#9c179e"
             ],
             [
              0.4444444444444444,
              "#bd3786"
             ],
             [
              0.5555555555555556,
              "#d8576b"
             ],
             [
              0.6666666666666666,
              "#ed7953"
             ],
             [
              0.7777777777777778,
              "#fb9f3a"
             ],
             [
              0.8888888888888888,
              "#fdca26"
             ],
             [
              1,
              "#f0f921"
             ]
            ],
            "type": "contour"
           }
          ],
          "contourcarpet": [
           {
            "colorbar": {
             "outlinewidth": 0,
             "ticks": ""
            },
            "type": "contourcarpet"
           }
          ],
          "heatmap": [
           {
            "colorbar": {
             "outlinewidth": 0,
             "ticks": ""
            },
            "colorscale": [
             [
              0,
              "#0d0887"
             ],
             [
              0.1111111111111111,
              "#46039f"
             ],
             [
              0.2222222222222222,
              "#7201a8"
             ],
             [
              0.3333333333333333,
              "#9c179e"
             ],
             [
              0.4444444444444444,
              "#bd3786"
             ],
             [
              0.5555555555555556,
              "#d8576b"
             ],
             [
              0.6666666666666666,
              "#ed7953"
             ],
             [
              0.7777777777777778,
              "#fb9f3a"
             ],
             [
              0.8888888888888888,
              "#fdca26"
             ],
             [
              1,
              "#f0f921"
             ]
            ],
            "type": "heatmap"
           }
          ],
          "histogram": [
           {
            "marker": {
             "pattern": {
              "fillmode": "overlay",
              "size": 10,
              "solidity": 0.2
             }
            },
            "type": "histogram"
           }
          ],
          "histogram2d": [
           {
            "colorbar": {
             "outlinewidth": 0,
             "ticks": ""
            },
            "colorscale": [
             [
              0,
              "#0d0887"
             ],
             [
              0.1111111111111111,
              "#46039f"
             ],
             [
              0.2222222222222222,
              "#7201a8"
             ],
             [
              0.3333333333333333,
              "#9c179e"
             ],
             [
              0.4444444444444444,
              "#bd3786"
             ],
             [
              0.5555555555555556,
              "#d8576b"
             ],
             [
              0.6666666666666666,
              "#ed7953"
             ],
             [
              0.7777777777777778,
              "#fb9f3a"
             ],
             [
              0.8888888888888888,
              "#fdca26"
             ],
             [
              1,
              "#f0f921"
             ]
            ],
            "type": "histogram2d"
           }
          ],
          "histogram2dcontour": [
           {
            "colorbar": {
             "outlinewidth": 0,
             "ticks": ""
            },
            "colorscale": [
             [
              0,
              "#0d0887"
             ],
             [
              0.1111111111111111,
              "#46039f"
             ],
             [
              0.2222222222222222,
              "#7201a8"
             ],
             [
              0.3333333333333333,
              "#9c179e"
             ],
             [
              0.4444444444444444,
              "#bd3786"
             ],
             [
              0.5555555555555556,
              "#d8576b"
             ],
             [
              0.6666666666666666,
              "#ed7953"
             ],
             [
              0.7777777777777778,
              "#fb9f3a"
             ],
             [
              0.8888888888888888,
              "#fdca26"
             ],
             [
              1,
              "#f0f921"
             ]
            ],
            "type": "histogram2dcontour"
           }
          ],
          "mesh3d": [
           {
            "colorbar": {
             "outlinewidth": 0,
             "ticks": ""
            },
            "type": "mesh3d"
           }
          ],
          "parcoords": [
           {
            "line": {
             "colorbar": {
              "outlinewidth": 0,
              "ticks": ""
             }
            },
            "type": "parcoords"
           }
          ],
          "pie": [
           {
            "automargin": true,
            "type": "pie"
           }
          ],
          "scatter": [
           {
            "fillpattern": {
             "fillmode": "overlay",
             "size": 10,
             "solidity": 0.2
            },
            "type": "scatter"
           }
          ],
          "scatter3d": [
           {
            "line": {
             "colorbar": {
              "outlinewidth": 0,
              "ticks": ""
             }
            },
            "marker": {
             "colorbar": {
              "outlinewidth": 0,
              "ticks": ""
             }
            },
            "type": "scatter3d"
           }
          ],
          "scattercarpet": [
           {
            "marker": {
             "colorbar": {
              "outlinewidth": 0,
              "ticks": ""
             }
            },
            "type": "scattercarpet"
           }
          ],
          "scattergeo": [
           {
            "marker": {
             "colorbar": {
              "outlinewidth": 0,
              "ticks": ""
             }
            },
            "type": "scattergeo"
           }
          ],
          "scattergl": [
           {
            "marker": {
             "colorbar": {
              "outlinewidth": 0,
              "ticks": ""
             }
            },
            "type": "scattergl"
           }
          ],
          "scattermap": [
           {
            "marker": {
             "colorbar": {
              "outlinewidth": 0,
              "ticks": ""
             }
            },
            "type": "scattermap"
           }
          ],
          "scattermapbox": [
           {
            "marker": {
             "colorbar": {
              "outlinewidth": 0,
              "ticks": ""
             }
            },
            "type": "scattermapbox"
           }
          ],
          "scatterpolar": [
           {
            "marker": {
             "colorbar": {
              "outlinewidth": 0,
              "ticks": ""
             }
            },
            "type": "scatterpolar"
           }
          ],
          "scatterpolargl": [
           {
            "marker": {
             "colorbar": {
              "outlinewidth": 0,
              "ticks": ""
             }
            },
            "type": "scatterpolargl"
           }
          ],
          "scatterternary": [
           {
            "marker": {
             "colorbar": {
              "outlinewidth": 0,
              "ticks": ""
             }
            },
            "type": "scatterternary"
           }
          ],
          "surface": [
           {
            "colorbar": {
             "outlinewidth": 0,
             "ticks": ""
            },
            "colorscale": [
             [
              0,
              "#0d0887"
             ],
             [
              0.1111111111111111,
              "#46039f"
             ],
             [
              0.2222222222222222,
              "#7201a8"
             ],
             [
              0.3333333333333333,
              "#9c179e"
             ],
             [
              0.4444444444444444,
              "#bd3786"
             ],
             [
              0.5555555555555556,
              "#d8576b"
             ],
             [
              0.6666666666666666,
              "#ed7953"
             ],
             [
              0.7777777777777778,
              "#fb9f3a"
             ],
             [
              0.8888888888888888,
              "#fdca26"
             ],
             [
              1,
              "#f0f921"
             ]
            ],
            "type": "surface"
           }
          ],
          "table": [
           {
            "cells": {
             "fill": {
              "color": "#EBF0F8"
             },
             "line": {
              "color": "white"
             }
            },
            "header": {
             "fill": {
              "color": "#C8D4E3"
             },
             "line": {
              "color": "white"
             }
            },
            "type": "table"
           }
          ]
         },
         "layout": {
          "annotationdefaults": {
           "arrowcolor": "#2a3f5f",
           "arrowhead": 0,
           "arrowwidth": 1
          },
          "autotypenumbers": "strict",
          "coloraxis": {
           "colorbar": {
            "outlinewidth": 0,
            "ticks": ""
           }
          },
          "colorscale": {
           "diverging": [
            [
             0,
             "#8e0152"
            ],
            [
             0.1,
             "#c51b7d"
            ],
            [
             0.2,
             "#de77ae"
            ],
            [
             0.3,
             "#f1b6da"
            ],
            [
             0.4,
             "#fde0ef"
            ],
            [
             0.5,
             "#f7f7f7"
            ],
            [
             0.6,
             "#e6f5d0"
            ],
            [
             0.7,
             "#b8e186"
            ],
            [
             0.8,
             "#7fbc41"
            ],
            [
             0.9,
             "#4d9221"
            ],
            [
             1,
             "#276419"
            ]
           ],
           "sequential": [
            [
             0,
             "#0d0887"
            ],
            [
             0.1111111111111111,
             "#46039f"
            ],
            [
             0.2222222222222222,
             "#7201a8"
            ],
            [
             0.3333333333333333,
             "#9c179e"
            ],
            [
             0.4444444444444444,
             "#bd3786"
            ],
            [
             0.5555555555555556,
             "#d8576b"
            ],
            [
             0.6666666666666666,
             "#ed7953"
            ],
            [
             0.7777777777777778,
             "#fb9f3a"
            ],
            [
             0.8888888888888888,
             "#fdca26"
            ],
            [
             1,
             "#f0f921"
            ]
           ],
           "sequentialminus": [
            [
             0,
             "#0d0887"
            ],
            [
             0.1111111111111111,
             "#46039f"
            ],
            [
             0.2222222222222222,
             "#7201a8"
            ],
            [
             0.3333333333333333,
             "#9c179e"
            ],
            [
             0.4444444444444444,
             "#bd3786"
            ],
            [
             0.5555555555555556,
             "#d8576b"
            ],
            [
             0.6666666666666666,
             "#ed7953"
            ],
            [
             0.7777777777777778,
             "#fb9f3a"
            ],
            [
             0.8888888888888888,
             "#fdca26"
            ],
            [
             1,
             "#f0f921"
            ]
           ]
          },
          "colorway": [
           "#636efa",
           "#EF553B",
           "#00cc96",
           "#ab63fa",
           "#FFA15A",
           "#19d3f3",
           "#FF6692",
           "#B6E880",
           "#FF97FF",
           "#FECB52"
          ],
          "font": {
           "color": "#2a3f5f"
          },
          "geo": {
           "bgcolor": "white",
           "lakecolor": "white",
           "landcolor": "#E5ECF6",
           "showlakes": true,
           "showland": true,
           "subunitcolor": "white"
          },
          "hoverlabel": {
           "align": "left"
          },
          "hovermode": "closest",
          "mapbox": {
           "style": "light"
          },
          "paper_bgcolor": "white",
          "plot_bgcolor": "#E5ECF6",
          "polar": {
           "angularaxis": {
            "gridcolor": "white",
            "linecolor": "white",
            "ticks": ""
           },
           "bgcolor": "#E5ECF6",
           "radialaxis": {
            "gridcolor": "white",
            "linecolor": "white",
            "ticks": ""
           }
          },
          "scene": {
           "xaxis": {
            "backgroundcolor": "#E5ECF6",
            "gridcolor": "white",
            "gridwidth": 2,
            "linecolor": "white",
            "showbackground": true,
            "ticks": "",
            "zerolinecolor": "white"
           },
           "yaxis": {
            "backgroundcolor": "#E5ECF6",
            "gridcolor": "white",
            "gridwidth": 2,
            "linecolor": "white",
            "showbackground": true,
            "ticks": "",
            "zerolinecolor": "white"
           },
           "zaxis": {
            "backgroundcolor": "#E5ECF6",
            "gridcolor": "white",
            "gridwidth": 2,
            "linecolor": "white",
            "showbackground": true,
            "ticks": "",
            "zerolinecolor": "white"
           }
          },
          "shapedefaults": {
           "line": {
            "color": "#2a3f5f"
           }
          },
          "ternary": {
           "aaxis": {
            "gridcolor": "white",
            "linecolor": "white",
            "ticks": ""
           },
           "baxis": {
            "gridcolor": "white",
            "linecolor": "white",
            "ticks": ""
           },
           "bgcolor": "#E5ECF6",
           "caxis": {
            "gridcolor": "white",
            "linecolor": "white",
            "ticks": ""
           }
          },
          "title": {
           "x": 0.05
          },
          "xaxis": {
           "automargin": true,
           "gridcolor": "white",
           "linecolor": "white",
           "ticks": "",
           "title": {
            "standoff": 15
           },
           "zerolinecolor": "white",
           "zerolinewidth": 2
          },
          "yaxis": {
           "automargin": true,
           "gridcolor": "white",
           "linecolor": "white",
           "ticks": "",
           "title": {
            "standoff": 15
           },
           "zerolinecolor": "white",
           "zerolinewidth": 2
          }
         }
        },
        "title": {
         "text": "Word Analogy Visualization: king - man + woman ≈ queen"
        },
        "width": 1000
       }
      },
      "text/html": [
       "<div>            <script src=\"https://cdnjs.cloudflare.com/ajax/libs/mathjax/2.7.5/MathJax.js?config=TeX-AMS-MML_SVG\"></script><script type=\"text/javascript\">if (window.MathJax && window.MathJax.Hub && window.MathJax.Hub.Config) {window.MathJax.Hub.Config({SVG: {font: \"STIX-Web\"}});}</script>                <script type=\"text/javascript\">window.PlotlyConfig = {MathJaxConfig: 'local'};</script>\n",
       "        <script charset=\"utf-8\" src=\"https://cdn.plot.ly/plotly-3.0.1.min.js\"></script>                <div id=\"744efe78-9445-4e93-9ca0-7cfffcf41294\" class=\"plotly-graph-div\" style=\"height:800px; width:1000px;\"></div>            <script type=\"text/javascript\">                window.PLOTLYENV=window.PLOTLYENV || {};                                if (document.getElementById(\"744efe78-9445-4e93-9ca0-7cfffcf41294\")) {                    Plotly.newPlot(                        \"744efe78-9445-4e93-9ca0-7cfffcf41294\",                        [{\"hoverinfo\":\"text\",\"marker\":{\"color\":[\"blue\",\"red\",\"blue\",\"red\",\"blue\",\"red\",\"blue\",\"red\",\"blue\",\"red\",\"blue\",\"red\",\"purple\",\"green\"],\"opacity\":0.8,\"size\":8},\"mode\":\"markers+text\",\"name\":\"Words\",\"text\":[\"king\",\"queen\",\"man\",\"woman\",\"prince\",\"princess\",\"boy\",\"girl\",\"father\",\"mother\",\"son\",\"daughter\",\"king-man\",\"king-man+woman\"],\"textposition\":\"top center\",\"x\":{\"dtype\":\"f4\",\"bdata\":\"IlYWv2x64r448Q0\\u002fLWv1Pvprl75sq2u+CNjzPgcR3D4k6rQ+GIjJPvY0zD6xWr0+Kmuev8ORKb8=\"},\"y\":{\"dtype\":\"f4\",\"bdata\":\"o9bVPaaciD4i09c+b9PPPt6TTz7ESIg+7ansPVOOfT42bgS\\u002f2IKuvkmABb+a2cW+vfm0vsnXtT0=\"},\"z\":{\"dtype\":\"f4\",\"bdata\":\"QjmovtOxYT4J4Me+JJxTPoichr5JUj0+RJFWvhAtSj5P90y+\\u002fIOHPiYvGL5vT48+w3Sovc50iT4=\"},\"type\":\"scatter3d\"},{\"line\":{\"color\":\"gray\",\"dash\":\"dash\",\"width\":4},\"mode\":\"lines\",\"name\":\"king - man\",\"x\":[-0.5872517824172974,-1.2376453876495361],\"y\":[0.10441329330205917,-0.3534678518772125],\"z\":[-0.32856184244155884,-0.08225395530462265],\"type\":\"scatter3d\"},{\"line\":{\"color\":\"gray\",\"dash\":\"dash\",\"width\":4},\"mode\":\"lines\",\"name\":\"+ woman\",\"x\":[-1.2376453876495361,-0.6623803973197937],\"y\":[-0.3534678518772125,0.08879048377275467],\"z\":[-0.08225395530462265,0.26846927404403687],\"type\":\"scatter3d\"},{\"line\":{\"color\":\"green\",\"width\":4},\"mode\":\"lines\",\"name\":\"≈ queen\",\"x\":[-0.6623803973197937,-0.44234025478363037],\"y\":[0.08879048377275467,0.26682013273239136],\"z\":[0.26846927404403687,0.22040490806102753],\"type\":\"scatter3d\"}],                        {\"height\":800,\"hovermode\":\"closest\",\"legend\":{\"bgcolor\":\"rgba(255, 255, 255, 0.5)\",\"font\":{\"size\":12},\"traceorder\":\"normal\",\"x\":0.9,\"y\":0.9},\"margin\":{\"b\":0,\"l\":0,\"r\":0,\"t\":40},\"scene\":{\"aspectmode\":\"cube\",\"camera\":{\"center\":{\"x\":0,\"y\":0,\"z\":0},\"eye\":{\"x\":1.5,\"y\":1.5,\"z\":1.5},\"up\":{\"x\":0,\"y\":0,\"z\":1}}},\"title\":{\"text\":\"Word Analogy Visualization: king - man + woman ≈ queen\"},\"width\":1000,\"template\":{\"data\":{\"histogram2dcontour\":[{\"type\":\"histogram2dcontour\",\"colorbar\":{\"outlinewidth\":0,\"ticks\":\"\"},\"colorscale\":[[0.0,\"#0d0887\"],[0.1111111111111111,\"#46039f\"],[0.2222222222222222,\"#7201a8\"],[0.3333333333333333,\"#9c179e\"],[0.4444444444444444,\"#bd3786\"],[0.5555555555555556,\"#d8576b\"],[0.6666666666666666,\"#ed7953\"],[0.7777777777777778,\"#fb9f3a\"],[0.8888888888888888,\"#fdca26\"],[1.0,\"#f0f921\"]]}],\"choropleth\":[{\"type\":\"choropleth\",\"colorbar\":{\"outlinewidth\":0,\"ticks\":\"\"}}],\"histogram2d\":[{\"type\":\"histogram2d\",\"colorbar\":{\"outlinewidth\":0,\"ticks\":\"\"},\"colorscale\":[[0.0,\"#0d0887\"],[0.1111111111111111,\"#46039f\"],[0.2222222222222222,\"#7201a8\"],[0.3333333333333333,\"#9c179e\"],[0.4444444444444444,\"#bd3786\"],[0.5555555555555556,\"#d8576b\"],[0.6666666666666666,\"#ed7953\"],[0.7777777777777778,\"#fb9f3a\"],[0.8888888888888888,\"#fdca26\"],[1.0,\"#f0f921\"]]}],\"heatmap\":[{\"type\":\"heatmap\",\"colorbar\":{\"outlinewidth\":0,\"ticks\":\"\"},\"colorscale\":[[0.0,\"#0d0887\"],[0.1111111111111111,\"#46039f\"],[0.2222222222222222,\"#7201a8\"],[0.3333333333333333,\"#9c179e\"],[0.4444444444444444,\"#bd3786\"],[0.5555555555555556,\"#d8576b\"],[0.6666666666666666,\"#ed7953\"],[0.7777777777777778,\"#fb9f3a\"],[0.8888888888888888,\"#fdca26\"],[1.0,\"#f0f921\"]]}],\"contourcarpet\":[{\"type\":\"contourcarpet\",\"colorbar\":{\"outlinewidth\":0,\"ticks\":\"\"}}],\"contour\":[{\"type\":\"contour\",\"colorbar\":{\"outlinewidth\":0,\"ticks\":\"\"},\"colorscale\":[[0.0,\"#0d0887\"],[0.1111111111111111,\"#46039f\"],[0.2222222222222222,\"#7201a8\"],[0.3333333333333333,\"#9c179e\"],[0.4444444444444444,\"#bd3786\"],[0.5555555555555556,\"#d8576b\"],[0.6666666666666666,\"#ed7953\"],[0.7777777777777778,\"#fb9f3a\"],[0.8888888888888888,\"#fdca26\"],[1.0,\"#f0f921\"]]}],\"surface\":[{\"type\":\"surface\",\"colorbar\":{\"outlinewidth\":0,\"ticks\":\"\"},\"colorscale\":[[0.0,\"#0d0887\"],[0.1111111111111111,\"#46039f\"],[0.2222222222222222,\"#7201a8\"],[0.3333333333333333,\"#9c179e\"],[0.4444444444444444,\"#bd3786\"],[0.5555555555555556,\"#d8576b\"],[0.6666666666666666,\"#ed7953\"],[0.7777777777777778,\"#fb9f3a\"],[0.8888888888888888,\"#fdca26\"],[1.0,\"#f0f921\"]]}],\"mesh3d\":[{\"type\":\"mesh3d\",\"colorbar\":{\"outlinewidth\":0,\"ticks\":\"\"}}],\"scatter\":[{\"fillpattern\":{\"fillmode\":\"overlay\",\"size\":10,\"solidity\":0.2},\"type\":\"scatter\"}],\"parcoords\":[{\"type\":\"parcoords\",\"line\":{\"colorbar\":{\"outlinewidth\":0,\"ticks\":\"\"}}}],\"scatterpolargl\":[{\"type\":\"scatterpolargl\",\"marker\":{\"colorbar\":{\"outlinewidth\":0,\"ticks\":\"\"}}}],\"bar\":[{\"error_x\":{\"color\":\"#2a3f5f\"},\"error_y\":{\"color\":\"#2a3f5f\"},\"marker\":{\"line\":{\"color\":\"#E5ECF6\",\"width\":0.5},\"pattern\":{\"fillmode\":\"overlay\",\"size\":10,\"solidity\":0.2}},\"type\":\"bar\"}],\"scattergeo\":[{\"type\":\"scattergeo\",\"marker\":{\"colorbar\":{\"outlinewidth\":0,\"ticks\":\"\"}}}],\"scatterpolar\":[{\"type\":\"scatterpolar\",\"marker\":{\"colorbar\":{\"outlinewidth\":0,\"ticks\":\"\"}}}],\"histogram\":[{\"marker\":{\"pattern\":{\"fillmode\":\"overlay\",\"size\":10,\"solidity\":0.2}},\"type\":\"histogram\"}],\"scattergl\":[{\"type\":\"scattergl\",\"marker\":{\"colorbar\":{\"outlinewidth\":0,\"ticks\":\"\"}}}],\"scatter3d\":[{\"type\":\"scatter3d\",\"line\":{\"colorbar\":{\"outlinewidth\":0,\"ticks\":\"\"}},\"marker\":{\"colorbar\":{\"outlinewidth\":0,\"ticks\":\"\"}}}],\"scattermap\":[{\"type\":\"scattermap\",\"marker\":{\"colorbar\":{\"outlinewidth\":0,\"ticks\":\"\"}}}],\"scattermapbox\":[{\"type\":\"scattermapbox\",\"marker\":{\"colorbar\":{\"outlinewidth\":0,\"ticks\":\"\"}}}],\"scatterternary\":[{\"type\":\"scatterternary\",\"marker\":{\"colorbar\":{\"outlinewidth\":0,\"ticks\":\"\"}}}],\"scattercarpet\":[{\"type\":\"scattercarpet\",\"marker\":{\"colorbar\":{\"outlinewidth\":0,\"ticks\":\"\"}}}],\"carpet\":[{\"aaxis\":{\"endlinecolor\":\"#2a3f5f\",\"gridcolor\":\"white\",\"linecolor\":\"white\",\"minorgridcolor\":\"white\",\"startlinecolor\":\"#2a3f5f\"},\"baxis\":{\"endlinecolor\":\"#2a3f5f\",\"gridcolor\":\"white\",\"linecolor\":\"white\",\"minorgridcolor\":\"white\",\"startlinecolor\":\"#2a3f5f\"},\"type\":\"carpet\"}],\"table\":[{\"cells\":{\"fill\":{\"color\":\"#EBF0F8\"},\"line\":{\"color\":\"white\"}},\"header\":{\"fill\":{\"color\":\"#C8D4E3\"},\"line\":{\"color\":\"white\"}},\"type\":\"table\"}],\"barpolar\":[{\"marker\":{\"line\":{\"color\":\"#E5ECF6\",\"width\":0.5},\"pattern\":{\"fillmode\":\"overlay\",\"size\":10,\"solidity\":0.2}},\"type\":\"barpolar\"}],\"pie\":[{\"automargin\":true,\"type\":\"pie\"}]},\"layout\":{\"autotypenumbers\":\"strict\",\"colorway\":[\"#636efa\",\"#EF553B\",\"#00cc96\",\"#ab63fa\",\"#FFA15A\",\"#19d3f3\",\"#FF6692\",\"#B6E880\",\"#FF97FF\",\"#FECB52\"],\"font\":{\"color\":\"#2a3f5f\"},\"hovermode\":\"closest\",\"hoverlabel\":{\"align\":\"left\"},\"paper_bgcolor\":\"white\",\"plot_bgcolor\":\"#E5ECF6\",\"polar\":{\"bgcolor\":\"#E5ECF6\",\"angularaxis\":{\"gridcolor\":\"white\",\"linecolor\":\"white\",\"ticks\":\"\"},\"radialaxis\":{\"gridcolor\":\"white\",\"linecolor\":\"white\",\"ticks\":\"\"}},\"ternary\":{\"bgcolor\":\"#E5ECF6\",\"aaxis\":{\"gridcolor\":\"white\",\"linecolor\":\"white\",\"ticks\":\"\"},\"baxis\":{\"gridcolor\":\"white\",\"linecolor\":\"white\",\"ticks\":\"\"},\"caxis\":{\"gridcolor\":\"white\",\"linecolor\":\"white\",\"ticks\":\"\"}},\"coloraxis\":{\"colorbar\":{\"outlinewidth\":0,\"ticks\":\"\"}},\"colorscale\":{\"sequential\":[[0.0,\"#0d0887\"],[0.1111111111111111,\"#46039f\"],[0.2222222222222222,\"#7201a8\"],[0.3333333333333333,\"#9c179e\"],[0.4444444444444444,\"#bd3786\"],[0.5555555555555556,\"#d8576b\"],[0.6666666666666666,\"#ed7953\"],[0.7777777777777778,\"#fb9f3a\"],[0.8888888888888888,\"#fdca26\"],[1.0,\"#f0f921\"]],\"sequentialminus\":[[0.0,\"#0d0887\"],[0.1111111111111111,\"#46039f\"],[0.2222222222222222,\"#7201a8\"],[0.3333333333333333,\"#9c179e\"],[0.4444444444444444,\"#bd3786\"],[0.5555555555555556,\"#d8576b\"],[0.6666666666666666,\"#ed7953\"],[0.7777777777777778,\"#fb9f3a\"],[0.8888888888888888,\"#fdca26\"],[1.0,\"#f0f921\"]],\"diverging\":[[0,\"#8e0152\"],[0.1,\"#c51b7d\"],[0.2,\"#de77ae\"],[0.3,\"#f1b6da\"],[0.4,\"#fde0ef\"],[0.5,\"#f7f7f7\"],[0.6,\"#e6f5d0\"],[0.7,\"#b8e186\"],[0.8,\"#7fbc41\"],[0.9,\"#4d9221\"],[1,\"#276419\"]]},\"xaxis\":{\"gridcolor\":\"white\",\"linecolor\":\"white\",\"ticks\":\"\",\"title\":{\"standoff\":15},\"zerolinecolor\":\"white\",\"automargin\":true,\"zerolinewidth\":2},\"yaxis\":{\"gridcolor\":\"white\",\"linecolor\":\"white\",\"ticks\":\"\",\"title\":{\"standoff\":15},\"zerolinecolor\":\"white\",\"automargin\":true,\"zerolinewidth\":2},\"scene\":{\"xaxis\":{\"backgroundcolor\":\"#E5ECF6\",\"gridcolor\":\"white\",\"linecolor\":\"white\",\"showbackground\":true,\"ticks\":\"\",\"zerolinecolor\":\"white\",\"gridwidth\":2},\"yaxis\":{\"backgroundcolor\":\"#E5ECF6\",\"gridcolor\":\"white\",\"linecolor\":\"white\",\"showbackground\":true,\"ticks\":\"\",\"zerolinecolor\":\"white\",\"gridwidth\":2},\"zaxis\":{\"backgroundcolor\":\"#E5ECF6\",\"gridcolor\":\"white\",\"linecolor\":\"white\",\"showbackground\":true,\"ticks\":\"\",\"zerolinecolor\":\"white\",\"gridwidth\":2}},\"shapedefaults\":{\"line\":{\"color\":\"#2a3f5f\"}},\"annotationdefaults\":{\"arrowcolor\":\"#2a3f5f\",\"arrowhead\":0,\"arrowwidth\":1},\"geo\":{\"bgcolor\":\"white\",\"landcolor\":\"#E5ECF6\",\"subunitcolor\":\"white\",\"showland\":true,\"showlakes\":true,\"lakecolor\":\"white\"},\"title\":{\"x\":0.05},\"mapbox\":{\"style\":\"light\"}}}},                        {\"responsive\": true}                    ).then(function(){\n",
       "                            \n",
       "var gd = document.getElementById('744efe78-9445-4e93-9ca0-7cfffcf41294');\n",
       "var x = new MutationObserver(function (mutations, observer) {{\n",
       "        var display = window.getComputedStyle(gd).display;\n",
       "        if (!display || display === 'none') {{\n",
       "            console.log([gd, 'removed!']);\n",
       "            Plotly.purge(gd);\n",
       "            observer.disconnect();\n",
       "        }}\n",
       "}});\n",
       "\n",
       "// Listen for the removal of the full notebook cells\n",
       "var notebookContainer = gd.closest('#notebook-container');\n",
       "if (notebookContainer) {{\n",
       "    x.observe(notebookContainer, {childList: true});\n",
       "}}\n",
       "\n",
       "// Listen for the clearing of the current output cell\n",
       "var outputEl = gd.closest('.output');\n",
       "if (outputEl) {{\n",
       "    x.observe(outputEl, {childList: true});\n",
       "}}\n",
       "\n",
       "                        })                };            </script>        </div>"
      ]
     },
     "metadata": {},
     "output_type": "display_data"
    }
   ],
   "source": [
    "from staticvectors import StaticVectors\n",
    "import numpy as np\n",
    "import plotly.graph_objects as go\n",
    "from plotly.offline import init_notebook_mode\n",
    "from sklearn.decomposition import PCA\n",
    "\n",
    "# Initialize the notebook for Plotly\n",
    "init_notebook_mode(connected=True)\n",
    "\n",
    "# Initialize the model\n",
    "w2v = StaticVectors(\"neuml/word2vec\")\n",
    "\n",
    "# Words to include in our visualization\n",
    "words = [\"king\", \"queen\", \"man\", \"woman\", \"prince\", \"princess\", \n",
    "         \"boy\", \"girl\", \"father\", \"mother\", \"son\", \"daughter\"]\n",
    "\n",
    "\n",
    "# Get embeddings for all words\n",
    "embeddings = w2v.embeddings(words)\n",
    "\n",
    "# Get indices for our key words\n",
    "king_idx = words.index(\"king\")\n",
    "man_idx = words.index(\"man\")\n",
    "woman_idx = words.index(\"woman\")\n",
    "queen_idx = words.index(\"queen\")\n",
    "\n",
    "# Get vectors for key words\n",
    "king_vec = embeddings[king_idx]\n",
    "man_vec = embeddings[man_idx]\n",
    "woman_vec = embeddings[woman_idx]\n",
    "queen_vec = embeddings[queen_idx]\n",
    "\n",
    "# Calculate the intermediate and result vectors\n",
    "king_minus_man_vec = king_vec - man_vec\n",
    "result_vec = king_minus_man_vec + woman_vec\n",
    "\n",
    "# Add the intermediate and result vectors to our data\n",
    "words.append(\"king-man\")\n",
    "words.append(\"king-man+woman\")\n",
    "embeddings = np.vstack([embeddings, king_minus_man_vec.reshape(1, -1), result_vec.reshape(1, -1)])\n",
    "\n",
    "# Reduce dimensionality to 3D using PCA\n",
    "pca = PCA(n_components=3)\n",
    "vis_dims = pca.fit_transform(embeddings)\n",
    "\n",
    "# Create color mapping - add the king-man point\n",
    "colors = {\n",
    "    \"king\": \"blue\",\n",
    "    \"queen\": \"red\",\n",
    "    \"man\": \"blue\",\n",
    "    \"woman\": \"red\",\n",
    "    \"prince\": \"blue\",\n",
    "    \"princess\": \"red\",\n",
    "    \"boy\": \"blue\",\n",
    "    \"girl\": \"red\",\n",
    "    \"father\": \"blue\",\n",
    "    \"mother\": \"red\",\n",
    "    \"son\": \"blue\",\n",
    "    \"daughter\": \"red\",\n",
    "    \"king-man\": \"purple\",\n",
    "    \"king-man+woman\": \"green\",\n",
    "}\n",
    "\n",
    "\n",
    "# Create the scatter plot for words\n",
    "trace = go.Scatter3d(\n",
    "    x=vis_dims[:, 0],\n",
    "    y=vis_dims[:, 1],\n",
    "    z=vis_dims[:, 2],\n",
    "    mode='markers+text',\n",
    "    marker=dict(\n",
    "        size=8,\n",
    "        color=[colors[word] for word in words],\n",
    "        opacity=0.8\n",
    "    ),\n",
    "    text=words,\n",
    "    textposition=\"top center\",\n",
    "    hoverinfo='text',\n",
    "    name='Words'\n",
    ")\n",
    "\n",
    "# Get the 3D PCA coordinates for our key points\n",
    "king_pos = vis_dims[king_idx]\n",
    "man_pos = vis_dims[man_idx]\n",
    "woman_pos = vis_dims[woman_idx]\n",
    "queen_pos = vis_dims[queen_idx]\n",
    "king_minus_man_pos = vis_dims[-2]  # Second to last point is our king-man vector\n",
    "result_pos = vis_dims[-1]  # The last point is our result vector\n",
    "\n",
    "# Create the \"king - man\" arrow (from king to king-man)\n",
    "arrow1 = go.Scatter3d(\n",
    "    x=[king_pos[0], king_minus_man_pos[0]],\n",
    "    y=[king_pos[1], king_minus_man_pos[1]],\n",
    "    z=[king_pos[2], king_minus_man_pos[2]],\n",
    "    mode='lines',\n",
    "    line=dict(color='gray', width=4, dash='dash'),\n",
    "    name='king - man'\n",
    ")\n",
    "\n",
    "# Create the \"+ woman\" arrow (from king-man to result)\n",
    "arrow2 = go.Scatter3d(\n",
    "    x=[king_minus_man_pos[0], result_pos[0]],\n",
    "    y=[king_minus_man_pos[1], result_pos[1]],\n",
    "    z=[king_minus_man_pos[2], result_pos[2]],\n",
    "    mode='lines',\n",
    "    line=dict(color='gray', width=4, dash='dash'),\n",
    "    name='+ woman'\n",
    ")\n",
    "\n",
    "# Create the final arrow from result to queen (to show how close they are)\n",
    "arrow3 = go.Scatter3d(\n",
    "    x=[result_pos[0], queen_pos[0]],\n",
    "    y=[result_pos[1], queen_pos[1]],\n",
    "    z=[result_pos[2], queen_pos[2]],\n",
    "    mode='lines',\n",
    "    line=dict(color='green', width=4),\n",
    "    name='≈ queen'\n",
    ")\n",
    "\n",
    "# Create the layout\n",
    "layout = go.Layout(\n",
    "    title=\"Word Analogy Visualization: king - man + woman ≈ queen\",\n",
    "    scene=dict(\n",
    "        aspectmode='cube',\n",
    "        camera=dict(\n",
    "            up=dict(x=0, y=0, z=1),\n",
    "            center=dict(x=0, y=0, z=0),\n",
    "            eye=dict(x=1.5, y=1.5, z=1.5)\n",
    "        ),\n",
    "    ),\n",
    "    width=1000,\n",
    "    height=800,\n",
    "    margin=dict(l=0, r=0, b=0, t=40),\n",
    "    legend=dict(\n",
    "        x=0.9,\n",
    "        y=0.9,\n",
    "        traceorder=\"normal\",\n",
    "        font=dict(size=12),\n",
    "        bgcolor=\"rgba(255, 255, 255, 0.5)\"\n",
    "    ),\n",
    "    hovermode='closest'\n",
    ")\n",
    "\n",
    "# Create the figure and display\n",
    "fig = go.Figure(data=[trace, arrow1, arrow2, arrow3], layout=layout)\n",
    "fig.show()"
   ]
  },
  {
   "cell_type": "markdown",
   "id": "4f6a89bc-1d97-40eb-a5e2-8a39ab3c2046",
   "metadata": {},
   "source": [
    "*Note: Chart doesn't render on github*"
   ]
  },
  {
   "cell_type": "markdown",
   "id": "6d1bb6d4-f8c9-4fe9-b599-fee589e11cf2",
   "metadata": {},
   "source": [
    "---\n",
    "\n",
    "While these static embeddings are useful, one of the biggest issues they suffer from is `polysemy`, or the coexistence of many possible meanings for a word or phrase.\n",
    "\n",
    "<img src=\"./media/polysemy.png\" width=600>\n",
    "\n",
    "Since the embeddings are not dynamic or contextual with static embedding models (duh), we fail to capture the nuances of words meanings used broadly. However, this was all changed with the next generation of:\n",
    "\n",
    "## Transformer Based Embedding Models\n",
    "\n",
    "<img src=\"./media/attention.png\" width=600>\n",
    "\n",
    "While static embedding models remained popular, the transformer architecture changed the game by implementing the attention mechanism, allowing token level encodings to change based on the context of the words around it. \n",
    "\n",
    "While we won't be going deep into transformer representations in this notebook, if you wish to learn more about sentence transformers and embedding models, check out my other resource [BERT: The Most Used AI Model You Haven't Heard Of](https://www.youtube.com/watch?v=n_UQ0e0fBIA)!"
   ]
  },
  {
   "cell_type": "markdown",
   "id": "8d92d72d-9220-4e81-a703-3566cd126a77",
   "metadata": {},
   "source": [
    "In the meantime, we can visualize the difference in vector representations for the two sentences using `bert-base-uncased`:\n",
    "1. \"I went to the bank to withdraw some money\"\n",
    "2. \"We all swam down to the muddy river bank\"\n",
    "\n",
    "and note how the different words contextually affect the word bank:"
   ]
  },
  {
   "cell_type": "code",
   "execution_count": 4,
   "id": "b92fe7f7-bceb-412f-aba2-9c93ce4e92f7",
   "metadata": {
    "jupyter": {
     "source_hidden": true
    }
   },
   "outputs": [
    {
     "data": {
      "image/png": "[encoded data removed]",
      "text/plain": [
       "<Figure size 1400x600 with 4 Axes>"
      ]
     },
     "metadata": {},
     "output_type": "display_data"
    }
   ],
   "source": [
    "import torch\n",
    "import numpy as np\n",
    "import matplotlib.pyplot as plt\n",
    "from transformers import BertTokenizer, BertModel\n",
    "import seaborn as sns\n",
    "\n",
    "# Load pre-trained model and tokenizer\n",
    "model_name = 'bert-base-uncased'\n",
    "tokenizer = BertTokenizer.from_pretrained(model_name)\n",
    "model = BertModel.from_pretrained(model_name, output_hidden_states=True, output_attentions=True, attn_implementation=\"eager\")\n",
    "\n",
    "# Two separate sentences\n",
    "sentence1 = \"I went to the bank to withdraw some money\"\n",
    "sentence2 = \"We all swam down to the muddy river bank\"\n",
    "\n",
    "# Process first sentence\n",
    "tokens1 = tokenizer.tokenize(sentence1)\n",
    "marked_text1 = [\"[CLS]\"] + tokens1 + [\"[SEP]\"]\n",
    "indexed_tokens1 = tokenizer.convert_tokens_to_ids(marked_text1)\n",
    "segments_ids1 = [1] * len(marked_text1)\n",
    "tokens_tensor1 = torch.tensor([indexed_tokens1])\n",
    "segments_tensors1 = torch.tensor([segments_ids1])\n",
    "\n",
    "# Process second sentence\n",
    "tokens2 = tokenizer.tokenize(sentence2)\n",
    "marked_text2 = [\"[CLS]\"] + tokens2 + [\"[SEP]\"]\n",
    "indexed_tokens2 = tokenizer.convert_tokens_to_ids(marked_text2)\n",
    "segments_ids2 = [1] * len(marked_text2)\n",
    "tokens_tensor2 = torch.tensor([indexed_tokens2])\n",
    "segments_tensors2 = torch.tensor([segments_ids2])\n",
    "\n",
    "# Get embeddings for both sentences\n",
    "model.eval()\n",
    "with torch.no_grad():\n",
    "    outputs1 = model(tokens_tensor1, segments_tensors1)\n",
    "    hidden_states1 = outputs1.hidden_states\n",
    "    token_embeddings1 = hidden_states1[-1].squeeze()\n",
    "    attention1 = outputs1.attentions[-1].squeeze().numpy()\n",
    "    \n",
    "    outputs2 = model(tokens_tensor2, segments_tensors2)\n",
    "    hidden_states2 = outputs2.hidden_states\n",
    "    token_embeddings2 = hidden_states2[-1].squeeze()\n",
    "    attention2 = outputs2.attentions[-1].squeeze().numpy()\n",
    "\n",
    "# Extract content attention matrices (excluding [CLS] and [SEP])\n",
    "content_attention1 = attention1[att_head][1:-1, 1:-1]\n",
    "content_attention2 = attention2[att_head][1:-1, 1:-1]\n",
    "\n",
    "# Find indices of \"bank\" in both sentences\n",
    "bank_idx1 = content_tokens1.index(\"bank\")\n",
    "bank_idx2 = content_tokens2.index(\"bank\")\n",
    "\n",
    "# Create visualizations specifically for the \"bank\" token\n",
    "att_head = 0  # You can change this to visualize different attention heads\n",
    "\n",
    "# VISUALIZATION 1: Attention FROM \"bank\" TO all other tokens\n",
    "plt.figure(figsize=(14, 6))\n",
    "\n",
    "# Sentence 1: Bank's attention to other tokens\n",
    "plt.subplot(1, 2, 1)\n",
    "bank_attention1 = content_attention1[bank_idx1].reshape(1, -1)\n",
    "sns.heatmap(bank_attention1,\n",
    "            xticklabels=content_tokens1,\n",
    "            yticklabels=[\"bank\"],\n",
    "            cmap=\"YlGnBu\")\n",
    "plt.title('FROM \"bank\" TO other words')\n",
    "plt.xticks(rotation=45, ha='right')\n",
    "\n",
    "# Sentence 2: Bank's attention to other tokens\n",
    "plt.subplot(1, 2, 2)\n",
    "bank_attention2 = content_attention2[bank_idx2].reshape(1, -1)\n",
    "sns.heatmap(bank_attention2,\n",
    "            xticklabels=content_tokens2,\n",
    "            yticklabels=[\"bank\"],\n",
    "            cmap=\"YlGnBu\")\n",
    "plt.title('FROM \"bank\" TO other words')\n",
    "plt.xticks(rotation=45, ha='right')\n",
    "\n",
    "plt.tight_layout()\n",
    "plt.show()"
   ]
  },
  {
   "cell_type": "markdown",
   "id": "eea4e2fc-8954-464d-959e-ad1c7c69b50c",
   "metadata": {},
   "source": [
    "Thus, looking at the cosine similarity between both banks within these embeddings we see a limited similarity"
   ]
  },
  {
   "cell_type": "code",
   "execution_count": 7,
   "id": "66bf1599-9af4-4ead-9f70-d53f9678c073",
   "metadata": {},
   "outputs": [
    {
     "name": "stdout",
     "output_type": "stream",
     "text": [
      "Cosine similarity between both 'bank's: 0.29626682\n"
     ]
    }
   ],
   "source": [
    "import numpy as np\n",
    "from sklearn.metrics.pairwise import cosine_similarity\n",
    "\n",
    "# Get embeddings for \"bank\" in both contexts\n",
    "bank_embedding1 = content_embeddings1[bank_idx1].numpy().reshape(1, -1)\n",
    "bank_embedding2 = content_embeddings2[bank_idx2].numpy().reshape(1, -1)\n",
    "\n",
    "# Calculate cosine similarity between the two \"bank\" embeddings\n",
    "similarity = cosine_similarity(bank_embedding1, bank_embedding2)[0][0]\n",
    "\n",
    "print(\"Cosine similarity between both 'bank's:\", similarity)"
   ]
  },
  {
   "cell_type": "markdown",
   "id": "11b667f7-a158-448a-9c76-aaa674a524d9",
   "metadata": {},
   "source": [
    "But if we add a third sentence including bank in a financial and seperate out the bank representation:"
   ]
  },
  {
   "cell_type": "code",
   "execution_count": 11,
   "id": "4dbc1892-eb22-4af4-8b38-7cbe3f84ee80",
   "metadata": {},
   "outputs": [
    {
     "name": "stdout",
     "output_type": "stream",
     "text": [
      "Cosine similarity between first sentence 'bank' and new 'bank': 0.8107918\n"
     ]
    }
   ],
   "source": [
    "# Add a third sentence with \"bank\" in a financial context\n",
    "sentence3 = \"The bank manager approved my loan application\"\n",
    "\n",
    "# Process third sentence\n",
    "tokens3 = tokenizer.tokenize(sentence3)\n",
    "marked_text3 = [\"[CLS]\"] + tokens3 + [\"[SEP]\"]\n",
    "indexed_tokens3 = tokenizer.convert_tokens_to_ids(marked_text3)\n",
    "segments_ids3 = [1] * len(marked_text3)\n",
    "tokens_tensor3 = torch.tensor([indexed_tokens3])\n",
    "segments_tensors3 = torch.tensor([segments_ids3])\n",
    "\n",
    "# Get embeddings for the third sentence\n",
    "model.eval()\n",
    "with torch.no_grad():\n",
    "    outputs3 = model(tokens_tensor3, segments_tensors3)\n",
    "    hidden_states3 = outputs3.hidden_states\n",
    "    token_embeddings3 = hidden_states3[-1].squeeze()\n",
    "\n",
    "# Extract content tokens and embeddings for the third sentence\n",
    "content_tokens3 = tokens3\n",
    "content_embeddings3 = token_embeddings3[1:-1]  # Skip first and last\n",
    "\n",
    "# Find index of \"bank\" in third sentence\n",
    "bank_idx3 = content_tokens3.index(\"bank\")\n",
    "\n",
    "# Get embedding for \"bank\" in the third context\n",
    "bank_embedding3 = content_embeddings3[bank_idx3].numpy().reshape(1, -1)\n",
    "\n",
    "# Calculate cosine similarities\n",
    "similarity_1_3 = cosine_similarity(bank_embedding1, bank_embedding3)[0][0]\n",
    "\n",
    "print(\"Cosine similarity between first sentence 'bank' and new 'bank':\", similarity_1_3)\n"
   ]
  },
  {
   "cell_type": "markdown",
   "id": "f0e3ebe5-db1c-499a-9193-88650ceffabf",
   "metadata": {},
   "source": [
    "It's much more similar!"
   ]
  },
  {
   "cell_type": "markdown",
   "id": "9fd4996b-2b55-460c-8e32-2d993fb29200",
   "metadata": {},
   "source": [
    "---\n",
    "## Back to Static - A Modern Revisit\n",
    "\n",
    "But as mentioned earlier, while transormer based embedding models boast impressive contextual performance, they come with the downside of requiring magnitudes more compute to calculate. This is where we can revisit static embeddings. While it's impossible to solve the problem of polysemy with static embeddings, we can use modern techniques to train much more robust models.\n",
    "\n",
    "This is highlighted in the recent blog post and model releases by Tom Aarsen, [Train 400x faster Static Embedding Models with Sentence Transformers](https://huggingface.co/blog/static-embeddings)\n",
    "\n",
    "In this he provides the overview for data selection and training methodology for an english retrieval, and multilingual similarity model. Impressively, with new data and new techniques he is able to achieve a model that outperforms all prior static embedding models and BM25, while maintaining the benefits of blazing fast speeds\n",
    "\n",
    "<img src=\"./media/nano_beir_vs_speed_gpu.png\" width=600>\n",
    "\n",
    "The main innovation is using contrastive learning, a technique we've seen with aligning multimodal representations in models like CLIP or enabling interchangable text & Audio/Video/Image understanding in LLMs. At its core, this learning method in embedding models calculates similarity between pairs (or more) of text sequences. The inputs are encoded into embeddings, their similarity is measured, and the model is trained to position semantically related inputs near each other in the embedding space, while distancing unrelated inputs. This creates a meaningful geometric arrangement where proximity indicates semantic relatedness.\"\n",
    "\n",
    "<img src=\"./media/contrast.png\" width=600>\n",
    "\n",
    "[Understanding Deep Learning Algorithms that Leverage Unlabeled Data, Part 2: Contrastive Learning](https://ai.stanford.edu/blog/understanding-contrastive-learning/)\n",
    "\n",
    "In Tom's approach, this is implemented using [MultipleNegativesRankingLoss](https://sbert.net/docs/package_reference/sentence_transformer/losses.html#multiplenegativesrankingloss). In this approach, for each anchor sample, you have one positive sample (that should be close to the anchor) and multiple negative samples (that should be distant from the anchor). The model is trained to rank the positive sample higher (more similar) than all the negative samples.\n",
    "\n",
    "Let's take a look at a truncated sample of one of the data entries for an example from [pubmedqa](https://huggingface.co/datasets/sentence-transformers/pubmedqa), a dataset for biomedical research question and answering that follows this format:\n",
    "\n",
    "| Anchor                                                                                          | Positive                                                                                                                | Negative 1                                                                                                      | Negative 2                                                                                                      | Negative 3                                                                                                      | Negative 4                                                                                                      | Negative 5                                                                                                      |\n",
    "|--------------------------------------------------------------------------------------------------|-------------------------------------------------------------------------------------------------------------------------|------------------------------------------------------------------------------------------------------------------|------------------------------------------------------------------------------------------------------------------|------------------------------------------------------------------------------------------------------------------|------------------------------------------------------------------------------------------------------------------|------------------------------------------------------------------------------------------------------------------|\n",
    "| Does the severity of obstructive sleep apnea predict patients requiring high continuous positive airway pressure? | Three hundred fifty-three consecutive obstructive sleep apnea (OSA) patients who had a successful manual CPAP titration in our sleep disorders unit. | Obstructive sleep apnea (OSA) increases the risk of cardiovascular disease (CVD) and has been reported to be associated with chronic kidney disease (CKD). Recent studies have demonstrated that cystati... | We prospectively included 194 obstructive sleep apnea syndrome patients without cardiovascular disease (mean age 56.5±12.5 years) who were undergoing sleep tests. An overnight full laboratory polisomn... | Exercise limitation is an important issue in patients with chronic obstructive pulmonary disease (COPD), and it often co-exists with obstructive sleep apnoea (overlap syndrome). This study examined th... | The purpose of present study was to evaluate the acute effects of bi-level positive airway pressure (BiPAP) on heart rate variability (HRV) of stable chronic obstructive pulmonary disease patients (CO... | Obstructive sleep apnea is a risk factor for dyslipidemia and atherosclerosis, which have been attributed to chronic intermittent hypoxia (CIH). Intermittent hypoxia inhibits a key enzyme of lipoprote... |\n",
    "\n",
    "So during training, the embedding model will learn to better represent the anchor text closer to the positive text, and further away from the negatives. Tom also used Matryoshka Representation Learning, a technique to frontload representation in the earlier dimensions of embeddings. I have a more complete explanation of MRL training in action in my [resource regarding fine tuning embedding models here!](https://youtu.be/v28Pu7hsJ0s?si=YPt82Si7o9yXtCh5)"
   ]
  },
  {
   "cell_type": "markdown",
   "id": "952409d4-f180-4a71-8157-a32766e80900",
   "metadata": {},
   "source": [
    "Let's give the [multi lingual similarity model](https://huggingface.co/sentence-transformers/static-similarity-mrl-multilingual-v1) a shot:"
   ]
  },
  {
   "cell_type": "code",
   "execution_count": 17,
   "id": "29a65fc1-c8d4-4a43-a058-2ebb53510a68",
   "metadata": {},
   "outputs": [
    {
     "name": "stdout",
     "output_type": "stream",
     "text": [
      "Embedding Shape: (3, 1024)\n",
      "\n",
      "Similarities: tensor([[ 1.0000,  0.8388, -0.0012],\n",
      "        [ 0.8388,  1.0000,  0.0445],\n",
      "        [-0.0012,  0.0445,  1.0000]])\n"
     ]
    }
   ],
   "source": [
    "from sentence_transformers import SentenceTransformer\n",
    "\n",
    "# Download from the 🤗 Hub\n",
    "model = SentenceTransformer(\"sentence-transformers/static-similarity-mrl-multilingual-v1\", device=\"cpu\")\n",
    "\n",
    "# Run inference\n",
    "sentences = [\n",
    "    'It is known for its dry red chili powder.',\n",
    "    'It is popular for dried red chili powder.',\n",
    "    'These monsters will move in large groups.',\n",
    "]\n",
    "\n",
    "embeddings = model.encode(sentences)\n",
    "\n",
    "print(\"Embedding Shape:\", embeddings.shape)\n",
    "\n",
    "# Get the similarity scores for the embeddings\n",
    "similarities = model.similarity(embeddings, embeddings)\n",
    "print(\"\\nSimilarities:\", similarities)"
   ]
  },
  {
   "cell_type": "markdown",
   "id": "66bedabd-2e03-498e-a971-df03d30f31b2",
   "metadata": {},
   "source": [
    "What's notable about this, is that we're able to push performance of embedding for common tasks like similarity and retrieval (the other static embedding model trained) above classic ranking algorithms like BM25 and getting close to the performance of some of the most used sentence transformers like [all-MiniLM-L6-v2](https://huggingface.co/sentence-transformers/all-MiniLM-L6-v2) within 6 percentage points on NanoBEIR NDCG@10 evaluations (**0.5032** vs **0.5623** respectively).\n",
    "\n",
    "All the while allowing for **107419.51** sentences per second to be computed on CPU, whilst the competitor all-MiniLM-L6-v2 can only run **1739.31** per second. (61.8X Faster!) These advances are significant, as this speedup can be incredibly beneficial for large scale production settings where the small accuracy tradeoff may be worthwhile. Additionally, it may be that further innovations in static embedding model training could push this further."
   ]
  },
  {
   "cell_type": "markdown",
   "id": "c7f62ad9-8b9a-4a9c-aa09-cd55007ed030",
   "metadata": {},
   "source": [
    "I gave this a shot by recreating the training, but this time using the [ModernBERT-base](https://huggingface.co/answerdotai/ModernBERT-base) tokenizer instead of [bert-base-uncased](https://huggingface.co/google-bert/bert-base-uncased) like the original:\n",
    "\n",
    "<img src=\"./media/myloss.png\" width=600>\n",
    "\n",
    "But only managed to push my NanoBEIR NDCG@10 (same primary metric as the prior) to **0.4791**. A few percentage points down- regardless you can still check out the model at [AdamLucek/static-retrieval-mrl-MBERT-base-en-v1](https://huggingface.co/AdamLucek/static-retrieval-mrl-MBERT-base-en-v1)!"
   ]
  },
  {
   "cell_type": "markdown",
   "id": "55592325-e187-4cb3-b773-c11f7b4c2635",
   "metadata": {},
   "source": [
    "---\n",
    "## Embedding Model Distillation\n",
    "\n",
    "However fun fully trained static embedding model's are, one trend that's picked up is converting existing contextual/transformer based model's into a static embedding model using [Model2Vec](https://github.com/MinishLab/model2vec)\n",
    "\n",
    "<img src=\"./media/m2v.png\" width=600>\n",
    "\n",
    "M2V uses some surprisingly simple observations to do this conversion. The primary steps for converting a model are to:\n",
    "1. Run every token in a model's vocabulary through the model and store the embedding\n",
    "2. Reduce the dimensionality of the output embedding\n",
    "3. Weight each embedding\n",
    "\n",
    "Thus Model2Vec essentially bootstraps static embeddings from transformer models by creating a lookup table of vector representations, applying dimensionality reduction, and weighting tokens appropriately, without requiring extensive training.\n",
    "\n",
    "While the 1st step here is relatively straightforward, steps 2 and 3 could use some additional light. We rely on PCA, or Principal Component Analysis, dimensionality reduction. \n",
    "\n",
    "<img src=\"./media/pca.png\" width=600>\n",
    "\n",
    "[Dimensionality Reduction: PCA, LDA, TSNE](https://www.123ofai.com/post/pca-lda-tsne-dimensionality-reduction)\n",
    "\n",
    "PCA attempts to map high dimensional data to lower dimensional space while maintaining the geometric distribution of the data as best as possible. This means that we can take large embeddings and convert them into smaller embeddings with a minimal loss in the semantic meaning of these embeddings and their relationships to each other (i.e. taking a 1028D vector and converting it to 256D). This is also what we used to convert embeddings into 3 dimensions for our prior interactive graph!\n",
    "\n",
    "PCA reduction in M2V helps to not only store more efficient and smaller vector representations, but can also help normalize and denoise the data from any high dimension model specific information, reduce any redundant learnings, and assist in generalizing a little more. So while we lose the specificity of the transformer based embedding, this will help make the token specific embedding more applicable to wider scenarios in a static setting where we won't have the luxury of context. \n",
    "\n",
    "<img src=\"./media/zipf.png\" width=600>\n",
    "\n",
    "[Model2Vec: Distill a Small Fast Model from any Sentence Transformer](https://huggingface.co/blog/Pringled/model2vec)\n",
    "\n",
    "Finally, when considering that a static embedding of a sequence, document or sentence will simply be a pooled average of the individual token level embeddings, it is important to add in some form of weighting. While unable to do the \"weighting\" in a sense of how attention can, we know that some words in sentences will contribute much more to the overal meaning than others. I.e. in the sentence \"The quick brown fox jumps over the lazy dog\", subjects like fox and dog have much stronger contributions than articles like \"the\".\n",
    "\n",
    "M2V uses a simplified version of smooth inverse frequency based on [Zipf's law](https://en.wikipedia.org/wiki/Zipf%27s_law), which states that \"when a list of measured values is sorted in decreasing order, the value of the n-th entry is often approximately inversely proportional to n.\" From wikipedia again, this is saying that \"It is usually found that the most common word occurs approximately twice as often as the next common one, three times as often as the third most common, and so on.\" As most vocabularies are already frequency ordered lists, we can assume this to hold true and effectively downweight frequent words and upweight rare words using the already provided list.\n",
    "\n",
    "So the Model2Vec algorithm applies this three step process using a given transformer embedding model and an optional vocabulary to quickly build a static embedding model based on it's inputs, let's take a look at this in action:"
   ]
  },
  {
   "cell_type": "markdown",
   "id": "fd7c6c2e-36b7-4f2b-9a0f-eca91280576f",
   "metadata": {},
   "source": [
    "### Load and Distill Model\n",
    "\n",
    "We'll be using [BAAI/bge-m3](https://huggingface.co/BAAI/bge-m3), a ~560M parameter multilingual sentence transformer model capable of processing sequences of up to 8192 tokens into 1024D vector representations"
   ]
  },
  {
   "cell_type": "code",
   "execution_count": 1,
   "id": "3ae0108c-a2c2-4d3b-9786-aeeb28c231a5",
   "metadata": {},
   "outputs": [
    {
     "name": "stderr",
     "output_type": "stream",
     "text": [
      "python(32674) MallocStackLogging: can't turn off malloc stack logging because it was not enabled.\n",
      "huggingface/tokenizers: The current process just got forked, after parallelism has already been used. Disabling parallelism to avoid deadlocks...\n",
      "To disable this warning, you can either:\n",
      "\t- Avoid using `tokenizers` before the fork if possible\n",
      "\t- Explicitly set the environment variable TOKENIZERS_PARALLELISM=(true | false)\n",
      "Encoding tokens: 100%|████████████| 249999/249999 [04:48<00:00, 866.60 tokens/s]\n"
     ]
    }
   ],
   "source": [
    "from model2vec.distill import distill\n",
    "\n",
    "# Choose a Sentence Transformer model\n",
    "base_model_name = \"BAAI/bge-m3\"\n",
    "\n",
    "# Distill an output model with the chosen dimensions\n",
    "distilled_model = distill(model_name=base_model_name, pca_dims=256)"
   ]
  },
  {
   "cell_type": "markdown",
   "id": "3bb72be8-2e12-4c79-814a-0a6adce4a123",
   "metadata": {},
   "source": [
    "### Save Model"
   ]
  },
  {
   "cell_type": "code",
   "execution_count": 2,
   "id": "e88bc36e-e040-4767-b9a8-c1a0ef01f972",
   "metadata": {},
   "outputs": [],
   "source": [
    "distilled_model.save_pretrained(\"./models/bge-m3-distill\")"
   ]
  },
  {
   "cell_type": "markdown",
   "id": "496b482e-6733-4042-ad7e-14f2249d4fef",
   "metadata": {},
   "source": [
    "### Load Base & Distilled Model for Comparison"
   ]
  },
  {
   "cell_type": "code",
   "execution_count": 3,
   "id": "3649e767-65af-41b8-a0f2-d699659388b0",
   "metadata": {},
   "outputs": [
    {
     "data": {
      "application/vnd.jupyter.widget-view+json": {
       "model_id": "e4e737cc61394a59a8a73923f14b1d97",
       "version_major": 2,
       "version_minor": 0
      },
      "text/plain": [
       "modules.json:   0%|          | 0.00/349 [00:00<?, ?B/s]"
      ]
     },
     "metadata": {},
     "output_type": "display_data"
    },
    {
     "data": {
      "application/vnd.jupyter.widget-view+json": {
       "model_id": "d690580ac8434cab916795e8abec0139",
       "version_major": 2,
       "version_minor": 0
      },
      "text/plain": [
       "config_sentence_transformers.json:   0%|          | 0.00/123 [00:00<?, ?B/s]"
      ]
     },
     "metadata": {},
     "output_type": "display_data"
    },
    {
     "data": {
      "application/vnd.jupyter.widget-view+json": {
       "model_id": "d4529652bcda45d1b474a580553cc9ab",
       "version_major": 2,
       "version_minor": 0
      },
      "text/plain": [
       "README.md:   0%|          | 0.00/15.8k [00:00<?, ?B/s]"
      ]
     },
     "metadata": {},
     "output_type": "display_data"
    },
    {
     "data": {
      "application/vnd.jupyter.widget-view+json": {
       "model_id": "be14567068384b6a8ca408a96ae17ad0",
       "version_major": 2,
       "version_minor": 0
      },
      "text/plain": [
       "sentence_bert_config.json:   0%|          | 0.00/54.0 [00:00<?, ?B/s]"
      ]
     },
     "metadata": {},
     "output_type": "display_data"
    },
    {
     "data": {
      "application/vnd.jupyter.widget-view+json": {
       "model_id": "6e80f7092ea74c7d866982c9701f6f91",
       "version_major": 2,
       "version_minor": 0
      },
      "text/plain": [
       "config.json:   0%|          | 0.00/191 [00:00<?, ?B/s]"
      ]
     },
     "metadata": {},
     "output_type": "display_data"
    }
   ],
   "source": [
    "from sentence_transformers import SentenceTransformer\n",
    "\n",
    "reg_model = SentenceTransformer(\"BAAI/bge-m3\", device=\"cpu\")\n",
    "m2v_model = SentenceTransformer(\"./models/bge-m3-distill\", device=\"cpu\")"
   ]
  },
  {
   "cell_type": "markdown",
   "id": "389abf93-56d5-43a6-a456-68a33898de3d",
   "metadata": {},
   "source": [
    "### Compare Sentence Similarity\n",
    "\n",
    "Using a quick example from the english subset of [MLDR](https://huggingface.co/datasets/sentence-transformers/mldr), the dataset used to train BGE-M3."
   ]
  },
  {
   "cell_type": "code",
   "execution_count": 11,
   "id": "8e1ba391-c5a1-4cb1-b6a4-4c479de6748a",
   "metadata": {},
   "outputs": [],
   "source": [
    "sentences = [\n",
    "    \"What is Didier Ruef best known for as a photographer?\", # Anchor\n",
    "    \"Didier Ruef (born 1961) is a Swiss documentary photographer best known for his portrayal of man and waste, recycle and sustainability, Africa, man and animals, Swiss alpine farmers and contemporary Switzerland.\", # Positive\n",
    "    \"Hussein Shariffe (7th July, 1934 – 21st January 2005, Omdurman, Sudan) was a Sudanese filmmaker, painter, poet and university lecturer at the University of Khartoum. After years of schooling in Khartoum and Alexandria, Egypt, he studied Modern History and Fine Arts in England, where he had his first exhibition in London's Gallery One in 1957. Back in Sudan in the 1970s, he worked both at the Ministry of Culture and the Faculty of Arts at the University of Khartoum. From 1973, he started a second artistic career as filmmaker, producing several documentary films and cinematographic essays on subjects such as traditional rites or history in Sudan, as well as on life in exile during his later years in Cairo.\", # Negative\n",
    "]"
   ]
  },
  {
   "cell_type": "code",
   "execution_count": 12,
   "id": "3acb1242-2a03-48b6-b93a-db0062c3f358",
   "metadata": {},
   "outputs": [],
   "source": [
    "embeddings = reg_model.encode(sentences)\n",
    "embeddings_m2v = m2v_model.encode(sentences)\n",
    "\n",
    "# Calculate similarity matrices for both models\n",
    "similarities_reg = reg_model.similarity(embeddings, embeddings)\n",
    "similarities_m2v = m2v_model.similarity(embeddings_m2v, embeddings_m2v)"
   ]
  },
  {
   "cell_type": "code",
   "execution_count": 40,
   "id": "a2d4923c-a567-4583-a3ae-5ef92214dc31",
   "metadata": {},
   "outputs": [
    {
     "name": "stdout",
     "output_type": "stream",
     "text": [
      "===== Model Comparison =====\n",
      "\n",
      "Base Model:\n",
      "\n",
      "Anchor & Positive:  0.7573255300521851\n",
      "Anchor & Negative:  0.3512013852596283\n",
      "\n",
      "============================\n",
      "\n",
      "Distilled Model:\n",
      "\n",
      "Anchor & Positive:  0.377685546875\n",
      "Anchor & Negative:  0.1063232421875\n"
     ]
    }
   ],
   "source": [
    "print(\"===== Model Comparison =====\")\n",
    "print(\"\\nBase Model:\")\n",
    "print(\"\\nAnchor & Positive: \", similarities_reg[0][1].item())\n",
    "print(\"Anchor & Negative: \", similarities_reg[0][2].item())\n",
    "print(\"\\n============================\")\n",
    "print(\"\\nDistilled Model:\")\n",
    "print(\"\\nAnchor & Positive: \", similarities_m2v[0][1].item())\n",
    "print(\"Anchor & Negative: \", similarities_m2v[0][2].item())"
   ]
  },
  {
   "cell_type": "markdown",
   "id": "8b527acb-073a-4b23-ad98-bc8903ba7a8e",
   "metadata": {},
   "source": [
    "While our direct computations are different, the expected result of higher similarity to the positive vs the negative holds true!"
   ]
  },
  {
   "cell_type": "markdown",
   "id": "5e8a3283-009b-4e9f-9820-409a16369a9b",
   "metadata": {},
   "source": [
    "---\n",
    "## Discussion\n",
    "\n",
    "<img src=\"./media/similarity.png\" width=800>\n",
    "\n",
    "[NLP SIMILARITY: Use pretrained word embeddings for semantic similarity search with BERT Transformers](https://christianbernecker.medium.com/nlp-similarity-use-pretrained-word-embeddings-for-semantic-similarity-search-with-bert-4beaf7b6a148)\n",
    "\n",
    "So while modern day embedding models based on transformers can create robust dynamic embeddings, applying new data and approaches to old techniques have found static embeddings working their way back into the stack. While the latest in research in this area begins to provide competitive output to some of the most used transformer models, but at a fraction of the parameters and resources required to run and up to 400x faster in comparison!"
   ]
  },
  {
   "cell_type": "code",
   "execution_count": null,
   "id": "98262247-b4a2-4e1c-9637-03008db5fe5f",
   "metadata": {},
   "outputs": [],
   "source": []
  }
 ],
 "metadata": {
  "kernelspec": {
   "display_name": "Python 3 (ipykernel)",
   "language": "python",
   "name": "python3"
  },
  "language_info": {
   "codemirror_mode": {
    "name": "ipython",
    "version": 3
   },
   "file_extension": ".py",
   "mimetype": "text/x-python",
   "name": "python",
   "nbconvert_exporter": "python",
   "pygments_lexer": "ipython3",
   "version": "3.12.2"
  }
 },
 "nbformat": 4,
 "nbformat_minor": 5
}
